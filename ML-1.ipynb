{
 "cells": [
  {
   "cell_type": "code",
   "execution_count": 4,
   "metadata": {},
   "outputs": [
    {
     "name": "stdout",
     "output_type": "stream",
     "text": [
      "        Price Apartment type Metro station  Minutes to metro         Region  \\\n",
      "0   6300000.0      Secondary       Опалиха               6.0  Moscow region   \n",
      "1   9000000.0      Secondary       Павшино               2.0  Moscow region   \n",
      "2  11090000.0      Secondary      Мякинино              14.0  Moscow region   \n",
      "3   8300000.0      Secondary      Строгино               8.0  Moscow region   \n",
      "4   6450000.0      Secondary       Опалиха               6.0  Moscow region   \n",
      "\n",
      "   Number of rooms  Area  Living area  Kitchen area  Floor  Number of floors  \\\n",
      "0              1.0  30.6         11.1           8.5   25.0                25   \n",
      "1              1.0  49.2         20.0          10.0    6.0                15   \n",
      "2              1.0  44.7         16.2          13.1   10.0                25   \n",
      "3              1.0  35.1         16.0          11.0   12.0                33   \n",
      "4              1.0  37.7         15.2           4.0    5.0                 5   \n",
      "\n",
      "                  Renovation  \n",
      "0                   Cosmetic  \n",
      "1  European-style renovation  \n",
      "2                   Cosmetic  \n",
      "3  European-style renovation  \n",
      "4         Without renovation  \n"
     ]
    }
   ],
   "source": [
    "import numpy as np\n",
    "import pandas as pd\n",
    "import sklearn\n",
    "\n",
    "\n",
    "df = pd.read_csv (\"data.csv\")\n",
    "print (df.head())"
   ]
  },
  {
   "cell_type": "code",
   "execution_count": 6,
   "metadata": {},
   "outputs": [
    {
     "name": "stdout",
     "output_type": "stream",
     "text": [
      "0         6300000.0\n",
      "1         9000000.0\n",
      "2        11090000.0\n",
      "3         8300000.0\n",
      "4         6450000.0\n",
      "            ...    \n",
      "22671     4768792.0\n",
      "22672     5900000.0\n",
      "22673     3700000.0\n",
      "22674     5768869.0\n",
      "22675     6839157.0\n",
      "Name: Price, Length: 22676, dtype: float64\n"
     ]
    }
   ],
   "source": [
    "# define indepenent and dependent variables (independent - housing prices, dependent - destination from metro)\n",
    "x = df [\"Price\"]\n",
    "print (x)"
   ]
  },
  {
   "cell_type": "code",
   "execution_count": 7,
   "metadata": {},
   "outputs": [
    {
     "name": "stdout",
     "output_type": "stream",
     "text": [
      "0         6.0\n",
      "1         2.0\n",
      "2        14.0\n",
      "3         8.0\n",
      "4         6.0\n",
      "         ... \n",
      "22671     8.0\n",
      "22672    25.0\n",
      "22673    30.0\n",
      "22674    14.0\n",
      "22675     8.0\n",
      "Name: Minutes to metro, Length: 22676, dtype: float64\n"
     ]
    }
   ],
   "source": [
    "y = df [\"Minutes to metro\"]\n",
    "print (y)"
   ]
  },
  {
   "cell_type": "code",
   "execution_count": 12,
   "metadata": {},
   "outputs": [
    {
     "name": "stdout",
     "output_type": "stream",
     "text": [
      "1.1906534822433895e+28\n"
     ]
    }
   ],
   "source": [
    "# calculate the 0 Theta and 1 Theta\n",
    "# where 0 Theta = y mean - theta 1 * x mean\n",
    "# where 1 Theta = sum ((xi - x mean) * (yi - y mean)) / (sum (xi - x mean))^2\n",
    "# calculate y hat = theta 0 + theta 1 * x1\n",
    "\n",
    "x_mean = df[\"Price\"].mean()\n",
    "y_mean = df[\"Minutes to metro\"].mean()\n",
    "\n",
    "theta1  = ((df['Price'] - x_mean) * (df['Minutes to metro'] - y_mean)).sum() / ((df['Price'] - x_mean)).sum() ** 2\n",
    "theta0 = y_mean - theta1 * x_mean\n",
    "\n",
    "x1 = 6500000\n",
    "yhat =  theta0 + theta1 * x1\n",
    "\n",
    "print (yhat)"
   ]
  },
  {
   "cell_type": "code",
   "execution_count": 17,
   "metadata": {},
   "outputs": [
    {
     "name": "stdout",
     "output_type": "stream",
     "text": [
      "2.161816470823893e+60\n",
      "22676\n"
     ]
    }
   ],
   "source": [
    "# calculate theta 0 = y mean - theta 1 * x mean\n",
    "# calculate theta 1 = sum ((xi - x mean) * (yi - y mean)) / sum ((xi-x mean))^2\n",
    "# calculate y hat = theta 0 + theta 1 * x1\n",
    "\n",
    "x_mean = df[\"Price\"].mean()\n",
    "y_mean = df[\"Minutes to metro\"].mean()\n",
    "number = df['Price'].count()\n",
    "\n",
    "theta1 = ((df['Price'] - x_mean) * (df['Minutes to metro'] - y_mean)).sum() / ((df['Price'] - x_mean)).sum() ** 2\n",
    "theta0 = y_mean - theta1 * x_mean\n",
    "x1 = 6500000\n",
    "yhat = theta0 + theta1 * x1\n",
    "Mse = ((df['Minutes to metro'] - yhat)).sum() ** 2 * 1/number\n",
    "print (Mse)\n",
    "print ( number)\n"
   ]
  },
  {
   "cell_type": "code",
   "execution_count": null,
   "metadata": {},
   "outputs": [],
   "source": []
  },
  {
   "cell_type": "code",
   "execution_count": null,
   "metadata": {},
   "outputs": [],
   "source": []
  },
  {
   "cell_type": "code",
   "execution_count": null,
   "metadata": {},
   "outputs": [],
   "source": []
  }
 ],
 "metadata": {
  "kernelspec": {
   "display_name": "Python 3",
   "language": "python",
   "name": "python3"
  },
  "language_info": {
   "codemirror_mode": {
    "name": "ipython",
    "version": 3
   },
   "file_extension": ".py",
   "mimetype": "text/x-python",
   "name": "python",
   "nbconvert_exporter": "python",
   "pygments_lexer": "ipython3",
   "version": "3.12.1"
  }
 },
 "nbformat": 4,
 "nbformat_minor": 2
}
